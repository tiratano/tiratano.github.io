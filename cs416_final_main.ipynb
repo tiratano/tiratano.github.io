{
 "cells": [
  {
   "cell_type": "markdown",
   "metadata": {
    "collapsed": true
   },
   "source": [
    "# CS416 - Create a Narrative Visualizaton\n",
    "# COVID19 data preparation"
   ]
  },
  {
   "cell_type": "code",
   "execution_count": 1,
   "metadata": {},
   "outputs": [],
   "source": [
    "import time\n",
    "import xml.etree.ElementTree as ET\n",
    "from datetime import datetime, timedelta\n",
    "from io import StringIO\n",
    "\n",
    "import numpy as np\n",
    "import pandas as pd\n",
    "import requests"
   ]
  },
  {
   "cell_type": "code",
   "execution_count": 2,
   "metadata": {},
   "outputs": [],
   "source": [
    "# Source: https://stackoverflow.com/questions/2148119/how-to-convert-an-xml-string-to-a-dictionary\n",
    "def xml_to_dict(xml, result):\n",
    "    for child in xml:\n",
    "        if len(child) == 0:\n",
    "            result[child.tag] = child.text\n",
    "        else:\n",
    "            if child.tag in result:\n",
    "                if not isinstance(result[child.tag], list):\n",
    "                    result[child.tag] = [result[child.tag]]\n",
    "                result[child.tag].append(xml_to_dict(child, {}))\n",
    "            else:\n",
    "                result[child.tag] = xml_to_dict(child, {})\n",
    "    return result\n",
    "\n",
    "# 2020-04-13 10:22:29.663 > 2020-04-13\n",
    "def createDt_to_stateDt(createDt):\n",
    "    createDt = createDt[0:10]\n",
    "    createDt = createDt.replace(\"-\", \"\")\n",
    "    createDt = createDt.strip()\n",
    "    return '{}-{}-{}'.format(createDt[0:4], createDt[4:6], createDt[6:8])\n",
    "\n",
    "# 2021-07-25 > 2021-07-24\n",
    "def str_yesterday(str_day):\n",
    "    dt_day = datetime.strptime(str_day, '%Y-%m-%d')\n",
    "    dt_day = dt_day - timedelta(days=1)\n",
    "    return dt_day.strftime(\"%Y-%m-%d\")"
   ]
  },
  {
   "cell_type": "code",
   "execution_count": 3,
   "metadata": {},
   "outputs": [],
   "source": [
    "TODAY = time.strftime(\"%Y%m%d\")"
   ]
  },
  {
   "cell_type": "markdown",
   "metadata": {},
   "source": [
    "# OWID complete dataset"
   ]
  },
  {
   "cell_type": "code",
   "execution_count": 5,
   "metadata": {},
   "outputs": [
    {
     "name": "stdout",
     "output_type": "stream",
     "text": [
      "All data country count: 231\n"
     ]
    },
    {
     "name": "stderr",
     "output_type": "stream",
     "text": [
      "/home/suser/anaconda3/lib/python3.8/site-packages/pandas/core/indexing.py:1765: SettingWithCopyWarning: \n",
      "A value is trying to be set on a copy of a slice from a DataFrame.\n",
      "Try using .loc[row_indexer,col_indexer] = value instead\n",
      "\n",
      "See the caveats in the documentation: https://pandas.pydata.org/pandas-docs/stable/user_guide/indexing.html#returning-a-view-versus-a-copy\n",
      "  isetter(loc, value)\n"
     ]
    }
   ],
   "source": [
    "# COVID-19 (coronavirus) by Our World in Data\n",
    "# https://github.com/owid/covid-19-data/tree/master/public/data\n",
    "variants = requests.get('https://covid.ourworldindata.org/data/owid-covid-data.csv')\n",
    "f = StringIO(variants.text)\n",
    "pd_csv = pd.read_csv(f)\n",
    "print('All data country count: {}'.format(len(pd_csv.location.unique())))\n",
    "\n",
    "korea_idx = pd_csv.location.str.contains('South Korea')\n",
    "pd_all = pd_csv[korea_idx]\n",
    "pd_all.set_index('date', inplace=True)\n",
    "\n",
    "# Our World in Data error fix\n",
    "pd_all.loc['2021-07-23', 'new_cases'] = 1629\n",
    "pd_all.loc['2021-07-24', 'new_cases'] = 1486"
   ]
  },
  {
   "cell_type": "markdown",
   "metadata": {},
   "source": [
    "# append additional columns (age, gender)"
   ]
  },
  {
   "cell_type": "code",
   "execution_count": 6,
   "metadata": {},
   "outputs": [],
   "source": [
    "columns = []\n",
    "columns += ['man_conf_case', 'man_conf_case_rate', 'man_critical_rate', 'man_death', 'man_death_rate']\n",
    "columns += ['woman_conf_case', 'woman_conf_case_rate', 'woman_critical_rate', 'woman_death', 'woman_death_rate']\n",
    "for i in range(0, 8):\n",
    "    start = i*10\n",
    "    end = start+9\n",
    "    columns.append('age_{}-{}_conf_case'.format(start, end))\n",
    "    columns.append('age_{}-{}_conf_case_rate'.format(start, end))\n",
    "    columns.append('age_{}-{}_critical_rate'.format(start, end))\n",
    "    columns.append('age_{}-{}_death'.format(start, end))\n",
    "    columns.append('age_{}-{}_death_rate'.format(start, end))\n",
    "columns += ['age_over-80_conf_case', 'age_over-80_conf_case_rate', 'age_over-80_critical_rate', 'age_over-80_death', 'age_over-80_death_rate']\n",
    "for column in columns:\n",
    "    pd_all.insert(pd_all.columns.size, column, np.nan)"
   ]
  },
  {
   "cell_type": "markdown",
   "metadata": {},
   "source": [
    "# merge COVID19 variants information"
   ]
  },
  {
   "cell_type": "code",
   "execution_count": 7,
   "metadata": {},
   "outputs": [
    {
     "name": "stdout",
     "output_type": "stream",
     "text": [
      "Variants data country count: 84\n",
      "Variants count: 23\n"
     ]
    }
   ],
   "source": [
    "# COVID19 variants information\n",
    "# https://github.com/owid/covid-19-data/blob/master/public/data/variants/covid-variants.csv\n",
    "variants = requests.get('https://raw.githubusercontent.com/owid/covid-19-data/master/public/data/variants/covid-variants.csv')\n",
    "f = StringIO(variants.text)\n",
    "pd_var = pd.read_csv(f)\n",
    "print('Variants data country count: {}'.format(len(pd_var.location.unique())))\n",
    "\n",
    "korea_idx = pd_var.location.str.contains('South Korea')\n",
    "korea = pd_var[korea_idx]\n",
    "variant_types = korea['variant'].unique()\n",
    "print('Variants count: {}'.format(len(pd_var.variant.unique())))"
   ]
  },
  {
   "cell_type": "code",
   "execution_count": 8,
   "metadata": {},
   "outputs": [],
   "source": [
    "# add variants columns\n",
    "pd_all.insert(pd_all.columns.size, 'var_sequences_total', np.nan)\n",
    "for variant_nm in variant_types:\n",
    "    pd_all.insert(pd_all.columns.size, 'var_' + variant_nm + '_num', np.nan)\n",
    "    pd_all.insert(pd_all.columns.size, 'var_' + variant_nm + '_per', np.nan)"
   ]
  },
  {
   "cell_type": "code",
   "execution_count": 9,
   "metadata": {},
   "outputs": [],
   "source": [
    "# update variant columns\n",
    "# Caveats: This data only exists per two weeks\n",
    "for index, row in korea.iterrows():\n",
    "    state_dt = row['date']\n",
    "    variant_nm = row['variant']\n",
    "    num_sequences_total = row['num_sequences_total']\n",
    "    num_sequences = row['num_sequences']\n",
    "    perc_sequences = row['perc_sequences']\n",
    "    pd_all.loc[state_dt, 'var_sequences_total'] = num_sequences_total\n",
    "    pd_all.loc[state_dt, 'var_' + variant_nm + '_num'] = num_sequences\n",
    "    pd_all.loc[state_dt, 'var_' + variant_nm + '_per'] = perc_sequences"
   ]
  },
  {
   "cell_type": "markdown",
   "metadata": {},
   "source": [
    "# merge aging group information\n",
    "South Korea's Ministry of Health and Welfare Data Portal provides detailed data by aging group. Anyone can download data after having an authentication key. I will **_not_** upload this authentication key intentionally since there is a API request limitation for each user."
   ]
  },
  {
   "cell_type": "code",
   "execution_count": 10,
   "metadata": {},
   "outputs": [],
   "source": [
    "f = open(\"./OpenAPI_key.txt\")\n",
    "AUTH = f.read()"
   ]
  },
  {
   "cell_type": "code",
   "execution_count": 11,
   "metadata": {},
   "outputs": [],
   "source": [
    "# COVID19 data by aging group (공공데이터활용지원센터_보건복지부 코로나19 연령별·성별감염 현황)\n",
    "# https://www.data.go.kr/iim/api/selectAPIAcountView.do\n",
    "params = {'serviceKey': AUTH, 'pageNo': 1, 'numOfRows': 10, 'startCreateDt': '20200101', 'endCreateDt': '20230101'}\n",
    "result = requests.get('http://openapi.data.go.kr/openapi/service/rest/Covid19/getCovid19GenAgeCaseInfJson', params=params)\n",
    "\n",
    "root = ET.fromstring(result.text)\n",
    "dictRoot = xml_to_dict(root, {})\n",
    "resultCode = dictRoot['header']['resultCode']\n",
    "if resultCode == '00':\n",
    "    # XML to pandas: https://medium.com/@robertopreste/from-xml-to-pandas-dataframes-9292980b1c1c\n",
    "    item_list = dictRoot['body']['items']['item']\n",
    "    new_rows = {}\n",
    "    for item in item_list:\n",
    "        state_dt = createDt_to_stateDt(item['createDt'])  # OpenAPI date\n",
    "        state_dt = str_yesterday(state_dt)  # To standardize with OWID date\n",
    "        if state_dt not in pd_all.index:\n",
    "            continue\n",
    "\n",
    "        gubun = item['gubun']\n",
    "        if gubun == '남성':\n",
    "            pd_all.loc[state_dt, 'man_conf_case'] = item['confCase']\n",
    "            pd_all.loc[state_dt, 'man_conf_case_rate'] = item['confCaseRate']\n",
    "            pd_all.loc[state_dt, 'man_critical_rate'] = item['criticalRate']\n",
    "            pd_all.loc[state_dt, 'man_death'] = item['death']\n",
    "            pd_all.loc[state_dt, 'man_death_rate'] = item['deathRate']\n",
    "        elif gubun == '여성':\n",
    "            pd_all.loc[state_dt, 'woman_conf_case'] = item['confCase']\n",
    "            pd_all.loc[state_dt, 'woman_conf_case_rate'] = item['confCaseRate']\n",
    "            pd_all.loc[state_dt, 'woman_critical_rate'] = item['criticalRate']\n",
    "            pd_all.loc[state_dt, 'woman_death'] = item['death']\n",
    "            pd_all.loc[state_dt, 'woman_death_rate'] = item['deathRate']\n",
    "        elif gubun == '80 이상':\n",
    "            pd_all.loc[state_dt, 'age_over-80_conf_case'] = item['confCase']\n",
    "            pd_all.loc[state_dt, 'age_over-80_conf_case_rate'] = item['confCaseRate']\n",
    "            pd_all.loc[state_dt, 'age_over-80_critical_rate'] = item['criticalRate']\n",
    "            pd_all.loc[state_dt, 'age_over-80_death'] = item['death']\n",
    "            pd_all.loc[state_dt, 'age_over-80_death_rate'] = item['deathRate']\n",
    "        else:\n",
    "            pd_all.loc[state_dt, 'age_{}_conf_case'.format(gubun)] = item['confCase']\n",
    "            pd_all.loc[state_dt, 'age_{}_conf_case_rate'.format(gubun)] = item['confCaseRate']\n",
    "            pd_all.loc[state_dt, 'age_{}_critical_rate'.format(gubun)] = item['criticalRate']\n",
    "            pd_all.loc[state_dt, 'age_{}_death'.format(gubun)] = item['death']\n",
    "            pd_all.loc[state_dt, 'age_{}_death_rate'.format(gubun)] = item['deathRate']"
   ]
  },
  {
   "cell_type": "code",
   "execution_count": 12,
   "metadata": {},
   "outputs": [],
   "source": [
    "# calculate the difference between days (only applied to people_vaccinated, age fields)\n",
    "def add_col_diff(pd, diff_col):\n",
    "    new_col = 'new_' + diff_col\n",
    "    pd.insert(pd.columns.size, new_col, 0)\n",
    "    for row in range(1, len(pd_all)):\n",
    "        before = np.double(np.nan_to_num(pd.loc[pd.index[row - 1], diff_col]))\n",
    "        after = np.double(np.nan_to_num(pd.loc[pd.index[row], diff_col]))\n",
    "        diff = after - before\n",
    "        diff = diff if diff > 0 else 0\n",
    "        pd.loc[pd.index[row], new_col] = diff\n",
    "\n",
    "add_col_diff(pd_all, 'people_vaccinated')\n",
    "add_col_diff(pd_all, 'age_over-80_conf_case')\n",
    "for i in range(0, 8):\n",
    "    start = i*10\n",
    "    end = start+9\n",
    "    add_col_diff(pd_all, 'age_{}-{}_conf_case'.format(start, end))"
   ]
  },
  {
   "cell_type": "code",
   "execution_count": 13,
   "metadata": {},
   "outputs": [],
   "source": [
    "# remove last 2 lines (There is a time delays on Our World in Data)\n",
    "# Remove last columns: https://stackoverflow.com/questions/26921651/how-to-delete-the-last-row-of-data-of-a-pandas-dataframe\n",
    "pd_all = pd_all.head(-2)"
   ]
  },
  {
   "cell_type": "code",
   "execution_count": 14,
   "metadata": {},
   "outputs": [],
   "source": [
    "pd_all = pd_all.round(3)\n",
    "pd_all = pd_all.drop(['iso_code', 'continent', 'location'], axis='columns')\n",
    "pd_all.to_csv('./covid_kor_all.csv', index=True)"
   ]
  },
  {
   "cell_type": "markdown",
   "metadata": {},
   "source": [
    "# Post-process\n",
    "For some reasons, there are many N/A values in the Our World in Data, and OpenAPI data. \n",
    "It is hard to fix errors of the raw data; so I modified these data manually."
   ]
  },
  {
   "cell_type": "code",
   "execution_count": null,
   "metadata": {},
   "outputs": [],
   "source": []
  }
 ],
 "metadata": {
  "kernelspec": {
   "display_name": "Python 3",
   "language": "python",
   "name": "python3"
  },
  "language_info": {
   "codemirror_mode": {
    "name": "ipython",
    "version": 3
   },
   "file_extension": ".py",
   "mimetype": "text/x-python",
   "name": "python",
   "nbconvert_exporter": "python",
   "pygments_lexer": "ipython3",
   "version": "3.8.5"
  }
 },
 "nbformat": 4,
 "nbformat_minor": 1
}
